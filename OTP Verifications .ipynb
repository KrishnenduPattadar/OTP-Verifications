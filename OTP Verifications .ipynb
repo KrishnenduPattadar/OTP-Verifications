{
 "cells": [
  {
   "cell_type": "code",
   "execution_count": 1,
   "id": "5b555150",
   "metadata": {},
   "outputs": [
    {
     "name": "stdout",
     "output_type": "stream",
     "text": [
      "uic.21mca2583@gmail.com: krishnendu.pattadar@gmail.com\n",
      "Enter Your OTP >>: 4356\n",
      "Please Check your OTP again\n"
     ]
    }
   ],
   "source": [
    "import os\n",
    "import math\n",
    "import random\n",
    "import smtplib\n",
    "\n",
    "digits=\"0123456789\"\n",
    "OTP=\"\"\n",
    "for i in range(6):\n",
    "    OTP+=digits[math.floor(random.random()*10)]\n",
    "otp = OTP + \" is your OTP\"\n",
    "msg= otp\n",
    "s = smtplib.SMTP('smtp.gmail.com', 587)\n",
    "s.starttls()\n",
    "s.login(\"uic.21mca2583@gmail.com\", \"qaksjvsoolbvdnmm\")\n",
    "emailid = input(\"uic.21mca2583@gmail.com: \")\n",
    "s.sendmail('&&&&&&&&&&&',emailid,msg)\n",
    "a = input(\"Enter Your OTP >>: \")\n",
    "if a == OTP:\n",
    "    print(\"Verified\")\n",
    "else:\n",
    "    print(\"Please Check your OTP again\")"
   ]
  },
  {
   "cell_type": "code",
   "execution_count": null,
   "id": "e6bfe4b5",
   "metadata": {},
   "outputs": [],
   "source": []
  }
 ],
 "metadata": {
  "kernelspec": {
   "display_name": "Python 3 (ipykernel)",
   "language": "python",
   "name": "python3"
  },
  "language_info": {
   "codemirror_mode": {
    "name": "ipython",
    "version": 3
   },
   "file_extension": ".py",
   "mimetype": "text/x-python",
   "name": "python",
   "nbconvert_exporter": "python",
   "pygments_lexer": "ipython3",
   "version": "3.10.4"
  }
 },
 "nbformat": 4,
 "nbformat_minor": 5
}
